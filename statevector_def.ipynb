{
 "cells": [
  {
   "cell_type": "code",
   "execution_count": null,
   "id": "f0c7a245",
   "metadata": {},
   "outputs": [],
   "source": [
    "import numpy as np\n",
    "from time import time\n",
    "import matplotlib.pyplot as plt\n",
    "import rustworkx as rx\n",
    "\n",
    "from qiskit_nature.problems.second_quantization.lattice import Lattice\n",
    "import sys\n",
    "import os\n",
    "import time\n",
    "\n",
    "from heisenberg_model import HeisenbergModel\n",
    "from qiskit_nature.mappers.second_quantization import LogarithmicMapper\n",
    "from qiskit.algorithms import NumPyEigensolver\n",
    "from qiskit import QuantumCircuit\n",
    "from qiskit.circuit import Parameter\n",
    "from qiskit import Aer, transpile\n",
    "from qiskit.tools.visualization import plot_histogram\n",
    "\n",
    "import dask\n",
    "from distributed import Client\n",
    "import dask.array as da\n",
    "\n",
    "from kagome_custom import custom_VQE\n",
    "\n",
    "from qiskit.primitives import Estimator\n",
    "from qiskit.algorithms.optimizers import SPSA\n",
    "\n",
    "\n",
    "from scipy.optimize import differential_evolution\n",
    "import toolz\n",
    "from multiprocessing import Pool\n",
    "\n",
    "from ipywidgets import IntProgress\n",
    "from IPython.display import display\n",
    "import time\n"
   ]
  },
  {
   "cell_type": "code",
   "execution_count": null,
   "id": "b9e70d9a",
   "metadata": {},
   "outputs": [],
   "source": [
    "# path_to_json = './scheduler_info.json' #CAMBIAR\n",
    "# client = Client(scheduler_file = path_to_json)\n",
    "# client = Client(n_workers=12)\n",
    "# client"
   ]
  },
  {
   "cell_type": "code",
   "execution_count": null,
   "id": "8dd04bdf",
   "metadata": {},
   "outputs": [],
   "source": [
    "if __name__ == '__main__':\n",
    "    t = 1.0\n",
    "    edge_list = [\n",
    "        (1, 2, t),\n",
    "        (2, 3, t),\n",
    "        (3, 5, t),\n",
    "        (5, 8, t),\n",
    "        (8, 11, t),\n",
    "        (11, 0, t),\n",
    "        (0, 6, t),\n",
    "        (6, 9, t),\n",
    "        (9, 10, t),\n",
    "        (10, 7, t),\n",
    "        (7, 4, t),\n",
    "        (4, 1, t),\n",
    "        (4, 2, t),\n",
    "        (2, 5, t),\n",
    "        (5, 11, t),\n",
    "        (11, 6, t),\n",
    "        (6, 10, t),\n",
    "        (10, 4, t),\n",
    "    ]\n",
    "\n",
    "\n",
    "    num_qubits = 12\n",
    "    layers = 1\n",
    "    shots = 100\n",
    "\n",
    "\n",
    "    \n",
    "    kagome = custom_VQE(edge_list, num_qubits, layers, shots)\n",
    "    kagome.get_backend()\n",
    "\n",
    "    \n",
    "\n",
    "    \n"
   ]
  },
  {
   "cell_type": "code",
   "execution_count": null,
   "id": "00a52ffa",
   "metadata": {},
   "outputs": [],
   "source": [
    "\n",
    "def objective(x):\n",
    "    global kagome\n",
    "    job = kagome.estimator.run([kagome.qc],[kagome.ham],[x])\n",
    "    energy = job.result().values[0]\n",
    "    #print(energy)\n",
    "    return energy\n",
    "    "
   ]
  },
  {
   "cell_type": "code",
   "execution_count": null,
   "id": "1a3fe926",
   "metadata": {},
   "outputs": [],
   "source": [
    "def callback(xk,convergence):#,convergence\n",
    "    global f\n",
    "    f.value += 1\n",
    "    #ek = objective(xk)\n",
    "\n",
    "    #print(ek)\n",
    "#     file = open('de_statevector_data3.txt','a')\n",
    "#     ek = objective(xk)\n",
    "#     file.write(str(ek))\n",
    "#     file.write('\\n')\n",
    "#     file.close()\n"
   ]
  },
  {
   "cell_type": "code",
   "execution_count": null,
   "id": "a40b73d8",
   "metadata": {
    "scrolled": true
   },
   "outputs": [],
   "source": [
    "# optimizerSPSA = SPSA()\n",
    "# x0=np.pi*(2*np.random.rand(kagome.num_param)-1)*0\n",
    "# res = optimizerSPSA.minimize(objective,x0=x0)\n",
    "# print('------------')\n",
    "# print(res.nfev)\n",
    "# print(res.fun)\n",
    "# print(res.x)\n"
   ]
  },
  {
   "cell_type": "code",
   "execution_count": null,
   "id": "d4c2ddd8",
   "metadata": {
    "scrolled": true
   },
   "outputs": [],
   "source": [
    "max_count = 25000\n",
    "\n",
    "f = IntProgress(min=0, max=max_count) # instantiate the bar\n",
    "display(f) # display the bar\n",
    "\n",
    "\n",
    "\n",
    "\n",
    "\n",
    "bounds = []\n",
    "initial_point = []\n",
    "for k in range(3*layers):\n",
    "    bounds.append((-np.pi,np.pi))\n",
    "    initial_point.append(0)\n",
    "maxiter=25000\n",
    "popsize=1\n",
    "tol=1.e-15\n",
    "pool = Pool(12)\n",
    "parameters={'maxiter':maxiter,\n",
    "           'popsize':popsize,\n",
    "           'workers':pool.map,\n",
    "           'polish':False,\n",
    "           'strategy':'best1exp',\n",
    "           'updating':'deferred'}\n",
    "\n",
    "\n",
    "#,callback=callback\n",
    "optimizerDE = differential_evolution(func=objective,bounds=bounds,callback=callback,x0=initial_point,disp=True,tol=tol,**parameters)\n",
    "value = objective(optimizerDE.x)"
   ]
  },
  {
   "cell_type": "code",
   "execution_count": null,
   "id": "27e6af2d",
   "metadata": {
    "scrolled": true
   },
   "outputs": [],
   "source": [
    "\n",
    "# file = open('de_statevector_data3.txt','w')\n",
    "# file.close()\n",
    "maxit = 50\n",
    "bounds = []\n",
    "initial_point = []\n",
    "for k in range(3*layers):\n",
    "    bounds.append((-np.pi,np.pi))\n",
    "    initial_point.append(0)\n",
    "\n",
    "\n",
    "for i in range(maxit):\n",
    "\n",
    "   \n",
    "    \n",
    "    maxiter=25000\n",
    "    popsize=10\n",
    "    tol=1.e-15\n",
    "    pool = Pool(60)\n",
    "    parameters={'maxiter':maxiter,\n",
    "               'popsize':popsize,\n",
    "               'workers':pool.map,\n",
    "               'polish':False,\n",
    "               'strategy':'best1exp',\n",
    "               'updating':'deferred'}\n",
    "\n",
    "\n",
    "    #,callback=callback\n",
    "    optimizerDE = differential_evolution(func=objective,bounds=bounds,x0=initial_point,disp=True,tol=tol,**parameters)\n",
    "    value = objective(optimizerDE.x)\n",
    "    print('----------------------------------------------')\n",
    "    print(str(i)+': '+str(value))\n",
    "    print(optimizerDE.x)\n",
    "    print('----------------------------------------------')\n",
    "\n",
    "    if value < -12.0:\n",
    "        print('Hell yeah')\n",
    "        break\n",
    "    "
   ]
  },
  {
   "cell_type": "code",
   "execution_count": null,
   "id": "8ca99205",
   "metadata": {},
   "outputs": [],
   "source": [
    "from qiskit.algorithms.optimizers import SLSQP\n",
    "initial_point = np.random.rand(3)*1.e-2\n",
    "optimizer = SLSQP(maxiter=500,disp=True)\n",
    "values=optimizer.minimize(fun=objective,x0=initial_point)\n"
   ]
  },
  {
   "cell_type": "code",
   "execution_count": null,
   "id": "af1da163",
   "metadata": {},
   "outputs": [],
   "source": [
    "\n"
   ]
  }
 ],
 "metadata": {
  "kernelspec": {
   "display_name": "Python 3 (ipykernel)",
   "language": "python",
   "name": "python3"
  },
  "language_info": {
   "codemirror_mode": {
    "name": "ipython",
    "version": 3
   },
   "file_extension": ".py",
   "mimetype": "text/x-python",
   "name": "python",
   "nbconvert_exporter": "python",
   "pygments_lexer": "ipython3",
   "version": "3.11.4"
  }
 },
 "nbformat": 4,
 "nbformat_minor": 5
}
