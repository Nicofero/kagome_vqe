{
 "cells": [
  {
   "cell_type": "code",
   "execution_count": 1,
   "id": "f0c7a245",
   "metadata": {},
   "outputs": [],
   "source": [
    "import numpy as np\n",
    "from time import time\n",
    "import matplotlib.pyplot as plt\n",
    "import rustworkx as rx\n",
    "\n",
    "from qiskit_nature.problems.second_quantization.lattice import Lattice\n",
    "import sys\n",
    "import os\n",
    "import time\n",
    "\n",
    "from heisenberg_model import HeisenbergModel\n",
    "from qiskit_nature.mappers.second_quantization import LogarithmicMapper\n",
    "from qiskit.algorithms import NumPyEigensolver\n",
    "from qiskit import QuantumCircuit\n",
    "from qiskit.circuit import Parameter\n",
    "from qiskit import Aer, transpile\n",
    "from qiskit.tools.visualization import plot_histogram\n",
    "\n",
    "import dask\n",
    "from distributed import Client\n",
    "import dask.array as da\n",
    "\n",
    "from kagome_custom import custom_VQE\n",
    "\n",
    "from qiskit.primitives import Estimator\n",
    "from qiskit.algorithms.optimizers import SPSA\n",
    "\n",
    "\n",
    "from scipy.optimize import differential_evolution\n",
    "import toolz\n",
    "from multiprocessing import Pool\n",
    "from qiskit.algorithms.optimizers import SLSQP"
   ]
  },
  {
   "cell_type": "code",
   "execution_count": 2,
   "id": "8dd04bdf",
   "metadata": {},
   "outputs": [],
   "source": [
    "if __name__ == '__main__':\n",
    "    t = 1.0\n",
    "    edge_list = [\n",
    "        (1, 2, t),\n",
    "        (2, 3, t),\n",
    "        (3, 5, t),\n",
    "        (5, 8, t),\n",
    "        (8, 11, t),\n",
    "        (11, 0, t),\n",
    "        (0, 6, t),\n",
    "        (6, 9, t),\n",
    "        (9, 10, t),\n",
    "        (10, 7, t),\n",
    "        (7, 4, t),\n",
    "        (4, 1, t),\n",
    "        (4, 2, t),\n",
    "        (2, 5, t),\n",
    "        (5, 11, t),\n",
    "        (11, 6, t),\n",
    "        (6, 10, t),\n",
    "        (10, 4, t),\n",
    "    ]\n",
    "\n",
    "\n",
    "    num_qubits = 12\n",
    "    layers = 6\n",
    "    shots = 100\n",
    "\n",
    "\n",
    "    \n",
    "    kagome = custom_VQE(edge_list, num_qubits, layers, shots)\n",
    "    kagome.get_backend()\n",
    "\n",
    "    \n",
    "\n",
    "    \n"
   ]
  },
  {
   "cell_type": "code",
   "execution_count": 3,
   "id": "00a52ffa",
   "metadata": {},
   "outputs": [],
   "source": [
    "def objective(x):\n",
    "    global kagome\n",
    "    job = kagome.estimator.run([kagome.qc],[kagome.ham],[x])\n",
    "    energy = job.result().values[0]\n",
    "    #print(energy)\n",
    "    return energy\n",
    "    "
   ]
  },
  {
   "cell_type": "code",
   "execution_count": 8,
   "id": "1a3fe926",
   "metadata": {},
   "outputs": [],
   "source": [
    "def callback(xk,convergence):\n",
    "    ek = objective(xk)\n",
    "    #print(ek)\n",
    "    file = open('remix_data1.txt','a')\n",
    "    ek = objective(xk)\n",
    "    file.write(str(ek))\n",
    "    file.write('\\n')\n",
    "    file.close()\n"
   ]
  },
  {
   "cell_type": "code",
   "execution_count": 5,
   "id": "8f09c4bb",
   "metadata": {},
   "outputs": [],
   "source": [
    "\n",
    "file = open('remix_data1.txt','w')\n",
    "file.write(str(objective([0]*18)))\n",
    "file.write('\\n')\n",
    "file.close()\n"
   ]
  },
  {
   "cell_type": "code",
   "execution_count": 6,
   "id": "a40b73d8",
   "metadata": {
    "scrolled": true
   },
   "outputs": [
    {
     "name": "stdout",
     "output_type": "stream",
     "text": [
      "Iteration limit reached    (Exit mode 9)\n",
      "            Current function value: -3.862938525052812\n",
      "            Iterations: 10\n",
      "            Function evaluations: 222\n",
      "            Gradient evaluations: 10\n"
     ]
    }
   ],
   "source": [
    "#---------------SLSQP1-------------------------------\n",
    "optimizerSLSQP = SLSQP(maxiter=500,disp=True)\n",
    "initial_point0 = np.random.rand(18)*1.e-2\n",
    "values0=optimizerSLSQP.minimize(fun=objective,x0=initial_point0)\n",
    "file = open('remix_data1.txt','a')\n",
    "file.write(str(values0.fun))\n",
    "file.write('\\n')\n",
    "file.close()\n"
   ]
  },
  {
   "cell_type": "code",
   "execution_count": 9,
   "id": "27e6af2d",
   "metadata": {
    "scrolled": true
   },
   "outputs": [
    {
     "name": "stdout",
     "output_type": "stream",
     "text": [
      "differential_evolution step 1: f(x)= -3.86294\n",
      "-3.862938525052817\n",
      "differential_evolution step 2: f(x)= -3.86294\n",
      "-3.862938525052817\n",
      "differential_evolution step 3: f(x)= -3.86294\n",
      "-3.862938525052817\n",
      "differential_evolution step 4: f(x)= -3.86294\n",
      "-3.862938525052817\n",
      "differential_evolution step 5: f(x)= -3.86294\n",
      "-3.862938525052817\n",
      "differential_evolution step 6: f(x)= -3.86294\n",
      "-3.862938525052817\n",
      "differential_evolution step 7: f(x)= -3.86294\n",
      "-3.862938525052817\n",
      "differential_evolution step 8: f(x)= -3.86294\n",
      "-3.862938525052817\n",
      "differential_evolution step 9: f(x)= -3.86294\n",
      "-3.862938525052817\n",
      "differential_evolution step 10: f(x)= -3.86294\n",
      "-3.862938525052817\n"
     ]
    }
   ],
   "source": [
    "\n",
    "#-------------DE-----------------\n",
    "\n",
    "bounds = [(-np.pi,np.pi)]*18\n",
    "initial_point1 = values0.x\n",
    "maxiter=25000\n",
    "popsize=1\n",
    "tol=1.e-5\n",
    "pool = Pool(18)\n",
    "parameters={'maxiter':maxiter,\n",
    "           'popsize':popsize,\n",
    "           'workers':pool.map,\n",
    "           'polish':False,\n",
    "           'strategy':'best1exp',\n",
    "           'updating':'deferred'}\n",
    "\n",
    "\n",
    "\n",
    "optimizerDE = differential_evolution(func=objective,bounds=bounds,x0=initial_point1,callback=callback,disp=True,tol=tol,**parameters)"
   ]
  },
  {
   "cell_type": "code",
   "execution_count": 10,
   "id": "8ca99205",
   "metadata": {},
   "outputs": [
    {
     "name": "stdout",
     "output_type": "stream",
     "text": [
      "Iteration limit reached    (Exit mode 9)\n",
      "            Current function value: -8.560031217576913\n",
      "            Iterations: 10\n",
      "            Function evaluations: 214\n",
      "            Gradient evaluations: 10\n"
     ]
    }
   ],
   "source": [
    "#---------------SLSQP2-------------------------------\n",
    "initial_point2 = optimizerDE.x\n",
    "values2=optimizerSLSQP.minimize(fun=objective,x0=initial_point2)\n",
    "file = open('remix_data1.txt','a')\n",
    "file.write(str(values2.fun))\n",
    "file.write('\\n')\n",
    "file.close()\n",
    "\n"
   ]
  },
  {
   "cell_type": "code",
   "execution_count": null,
   "id": "9786b134",
   "metadata": {},
   "outputs": [],
   "source": []
  }
 ],
 "metadata": {
  "kernelspec": {
   "display_name": "Python 3 (ipykernel)",
   "language": "python",
   "name": "python3"
  },
  "language_info": {
   "codemirror_mode": {
    "name": "ipython",
    "version": 3
   },
   "file_extension": ".py",
   "mimetype": "text/x-python",
   "name": "python",
   "nbconvert_exporter": "python",
   "pygments_lexer": "ipython3",
   "version": "3.11.4"
  }
 },
 "nbformat": 4,
 "nbformat_minor": 5
}
